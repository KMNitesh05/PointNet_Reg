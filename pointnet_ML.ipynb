{
 "cells": [
  {
   "cell_type": "markdown",
   "metadata": {},
   "source": [
    "## nitesh.kumar@wsu.edu"
   ]
  },
  {
   "cell_type": "code",
   "execution_count": 1,
   "metadata": {},
   "outputs": [
    {
     "name": "stdout",
     "output_type": "stream",
     "text": [
      "Python executable: /Users/nitesh.kumar/miniconda3/bin/python\n",
      "RDKit version: 2023.03.2\n"
     ]
    }
   ],
   "source": [
    "import collections\n",
    "import os\n",
    "import sys\n",
    "from itertools import product\n",
    "\n",
    "import matplotlib.pyplot as plt\n",
    "import numpy as np\n",
    "import pandas as pd\n",
    "import pylab as pl\n",
    "import scipy.spatial as spatial\n",
    "from scipy.stats import multivariate_normal as mvn\n",
    "from scipy.stats import norm\n",
    "\n",
    "from rdkit import Chem\n",
    "import rdkit\n",
    "from sklearn.base import TransformerMixin\n",
    "from sklearn.ensemble import GradientBoostingRegressor, RandomForestRegressor\n",
    "from sklearn.kernel_ridge import KernelRidge\n",
    "from sklearn.linear_model import LogisticRegression\n",
    "from sklearn.metrics import accuracy_score, confusion_matrix\n",
    "from sklearn.metrics import mean_squared_error, r2_score\n",
    "from sklearn.model_selection import GridSearchCV\n",
    "from sklearn.model_selection import KFold, cross_val_predict, cross_validate, cross_val_score, train_test_split\n",
    "from sklearn.preprocessing import MinMaxScaler, StandardScaler\n",
    "\n",
    "print(f\"Python executable: {sys.executable}\")\n",
    "print(f\"RDKit version: {rdkit.__version__}\")\n"
   ]
  },
  {
   "cell_type": "code",
   "execution_count": 3,
   "metadata": {},
   "outputs": [
    {
     "name": "stdout",
     "output_type": "stream",
     "text": [
      "(410, 22, 3)\n"
     ]
    }
   ],
   "source": [
    "\n",
    "def point_cloud(t):\n",
    "    points =[]\n",
    "    x = np.loadtxt(t,dtype=float,usecols=(1), skiprows=2)\n",
    "    y = np.loadtxt(t,dtype=float,usecols=(2),skiprows=2)\n",
    "    z = np.loadtxt(t,dtype=float,usecols=(3),skiprows=2)\n",
    "    for i in range(len(x)):\n",
    "        points.append([x[i],y[i],z[i]])\n",
    "    return np.array(points)  \n",
    "\n",
    "num_samples = 410\n",
    "num_points = 22\n",
    "num_dimensions = 3\n",
    "\n",
    "X = np.zeros((num_samples, num_points, num_dimensions))\n",
    "\n",
    "for i in range(num_samples):\n",
    "    X[i,:,:] = point_cloud('/Volumes/NKMDISKAD/all_confs/frame_{}.xyz'.format(i))\n",
    "\n",
    "print(X.shape)  \n"
   ]
  },
  {
   "cell_type": "code",
   "execution_count": 4,
   "metadata": {},
   "outputs": [
    {
     "name": "stdout",
     "output_type": "stream",
     "text": [
      "(410,)\n",
      "[0.88560126]\n",
      "(410, 1)\n",
      "[0.02025527 0.02025527 0.06076582 0.10634018 0.10127636 0.14178691\n",
      " 0.10634018 0.12659545 0.12153164 0.13672309 0.222808   0.23799945\n",
      " 0.17216982 0.21774418 0.12153164 0.07595727 0.03038291 0.02025527\n",
      " 0.01519145 0.02025527] [ 0.88560126  1.36725844  1.84891563  2.33057281  2.81222999  3.29388718\n",
      "  3.77554436  4.25720155  4.73885873  5.22051591  5.7021731   6.18383028\n",
      "  6.66548747  7.14714465  7.62880183  8.11045902  8.5921162   9.07377339\n",
      "  9.55543057 10.03708775 10.51874494]\n"
     ]
    },
    {
     "data": {
      "text/plain": [
       "Text(0, 0.5, 'Probability')"
      ]
     },
     "execution_count": 4,
     "metadata": {},
     "output_type": "execute_result"
    },
    {
     "data": {
      "image/png": "[encoded data removed]",
      "text/plain": [
       "<Figure size 640x480 with 1 Axes>"
      ]
     },
     "metadata": {},
     "output_type": "display_data"
    }
   ],
   "source": [
    "\n",
    "r = np.loadtxt(\"energy_vals.csv\", delimiter='\\t')\n",
    "y3_ce = np.array(r).reshape(-1,1)\n",
    "print(r.shape)\n",
    "\n",
    "y3_ce = 627.503*(y3_ce + 37.70204410)\n",
    "#y=pd.read_csv('conf_energy_n6.csv',usecols=[0])\n",
    "print (y3_ce[0])\n",
    "print(y3_ce.shape)\n",
    "\n",
    "\n",
    "hist3, bin3 = np.histogram(y3_ce, bins=20, density=True)\n",
    "print(hist3, bin3)\n",
    "\n",
    "plt.hist(y3_ce,bins=20,density=False, edgecolor='green', linewidth=1.2,color=\"white\")\n",
    "#plt.xlim(0,100)\n",
    "plt.xlabel('Energy')\n",
    "plt.ylabel(\"Probability\")"
   ]
  },
  {
   "cell_type": "code",
   "execution_count": 5,
   "metadata": {},
   "outputs": [],
   "source": [
    "from sklearn.utils import shuffle\n",
    "\n",
    "y = y3_ce\n",
    "X, y = shuffle(X, y)\n",
    "y = np.array(y.flatten())"
   ]
  },
  {
   "cell_type": "code",
   "execution_count": 6,
   "metadata": {},
   "outputs": [
    {
     "name": "stdout",
     "output_type": "stream",
     "text": [
      "(410, 22, 3)\n",
      "(410,)\n"
     ]
    }
   ],
   "source": [
    "print(X.shape)\n",
    "print(y.shape)"
   ]
  },
  {
   "cell_type": "code",
   "execution_count": 7,
   "metadata": {},
   "outputs": [],
   "source": [
    "from sklearn.model_selection import KFold\n",
    "from sklearn.metrics import mean_squared_error, mean_absolute_error, r2_score\n",
    "import numpy as np\n",
    "import matplotlib.pyplot as plt\n",
    "\n",
    "def test_learner(X, y, model):\n",
    "    kf = KFold(n_splits=10, random_state=88, shuffle=True)\n",
    "    rmse_errorlist = []\n",
    "    mae_errorlist = []\n",
    "    r2_list = []\n",
    "    \n",
    "    for train_index, test_index in kf.split(X):\n",
    "        X_train, X_test = X[train_index], X[test_index]\n",
    "        y_train, y_test = y[train_index], y[test_index]\n",
    "\n",
    "        model.fit(X_train, y_train)\n",
    "        \n",
    "        y_pred = model.predict(X_test)\n",
    "        rmse_error = np.sqrt(mean_squared_error(y_test, y_pred))\n",
    "        mae_error = mean_absolute_error(y_test, y_pred)\n",
    "        r2 = r2_score(y_test, y_pred)\n",
    "        \n",
    "        rmse_errorlist.append(rmse_error)\n",
    "        mae_errorlist.append(mae_error)\n",
    "        r2_list.append(r2)\n",
    "\n",
    "    print('Final R2 score is {:.3f} ± {:.3f}'.format(np.mean(r2_list), np.std(r2_list)))\n",
    "    print('Final RMSE error is {:.3f} ± {:.3f}'.format(np.mean(rmse_errorlist), np.std(rmse_errorlist)))\n",
    "    print('Final MAE error is {:.3f} ± {:.3f}'.format(np.mean(mae_errorlist), np.std(mae_errorlist)))\n",
    "        \n",
    "    fig, axs = plt.subplots(1, 1, figsize=(5,5))\n",
    "    axs.scatter(y_test, y_pred)\n",
    "    axs.plot([np.min(y_test), np.max(y_test)], [np.min(y_test), np.max(y_test)], ls=\"--\", c=\".3\")\n",
    "    axs.set_xlim(np.min(y_test), np.max(y_test))\n",
    "    axs.set_ylim(np.min(y_test), np.max(y_test))\n",
    "    axs.set_xlabel('True values')\n",
    "    axs.set_ylabel('Predicted values')\n",
    "    axs.set_title('Predicted vs True')"
   ]
  },
  {
   "cell_type": "markdown",
   "metadata": {},
   "source": [
    "## pointnet model "
   ]
  },
  {
   "cell_type": "code",
   "execution_count": 8,
   "metadata": {},
   "outputs": [
    {
     "name": "stderr",
     "output_type": "stream",
     "text": [
      "2023-07-04 16:14:50.524153: I tensorflow/core/platform/cpu_feature_guard.cc:193] This TensorFlow binary is optimized with oneAPI Deep Neural Network Library (oneDNN) to use the following CPU instructions in performance-critical operations:  AVX2 FMA\n",
      "To enable them in other operations, rebuild TensorFlow with the appropriate compiler flags.\n",
      "2023-07-04 16:14:59.361216: I tensorflow/core/platform/cpu_feature_guard.cc:193] This TensorFlow binary is optimized with oneAPI Deep Neural Network Library (oneDNN) to use the following CPU instructions in performance-critical operations:  AVX2 FMA\n",
      "To enable them in other operations, rebuild TensorFlow with the appropriate compiler flags.\n"
     ]
    }
   ],
   "source": [
    "import tensorflow as tf\n",
    "from tensorflow.keras import layers\n",
    "\n",
    "class RMSD(tf.keras.metrics.Metric):\n",
    "    def __init__(self, name=\"rmsd\", **kwargs):\n",
    "        super(RMSD, self).__init__(name=name, **kwargs)\n",
    "        self.square_sum = self.add_weight(name=\"ss\", initializer=\"zeros\")\n",
    "        self.count = self.add_weight(name=\"count\", initializer=\"zeros\")\n",
    "\n",
    "    def update_state(self, y_true, y_pred, sample_weight=None):\n",
    "        y_true = tf.convert_to_tensor(y_true)\n",
    "        y_pred = tf.convert_to_tensor(y_pred)\n",
    "        error = tf.math.squared_difference(y_pred, y_true)\n",
    "        self.square_sum.assign_add(tf.reduce_sum(error))\n",
    "        self.count.assign_add(tf.cast(tf.size(y_true), dtype=tf.float32))\n",
    "\n",
    "    def result(self):\n",
    "        mean_square_error = tf.math.divide_no_nan(self.square_sum, self.count)\n",
    "        return tf.math.sqrt(mean_square_error)\n",
    "\n",
    "    def reset_states(self):\n",
    "        self.square_sum.assign(0.)\n",
    "        self.count.assign(0.)\n",
    "\n",
    "def PointNet():\n",
    "    input_points = layers.Input(shape=(None, 3)) # Assuming 3D point cloud data\n",
    "\n",
    "    # First transform block\n",
    "    x = layers.Conv1D(64, 1, activation='relu')(input_points)\n",
    "    x = layers.BatchNormalization()(x)\n",
    "    x = layers.Conv1D(128, 1, activation='relu')(x)\n",
    "    x = layers.BatchNormalization()(x)\n",
    "    x = layers.Conv1D(1024, 1, activation='relu')(x)\n",
    "    x = layers.BatchNormalization()(x)\n",
    "\n",
    "    global_feature = layers.GlobalMaxPooling1D()(x) \n",
    "\n",
    "    # Second transform block\n",
    "    x = layers.Dense(512, activation='relu')(global_feature)\n",
    "    x = layers.BatchNormalization()(x)\n",
    "    x = layers.Dense(256, activation='relu')(x)\n",
    "    x = layers.BatchNormalization()(x)\n",
    "\n",
    "    # Output layer for regression\n",
    "    output_class = layers.Dense(1)(x) \n",
    "\n",
    "    return tf.keras.Model(inputs=input_points, outputs=output_class, name='PointNet')\n",
    "\n",
    "model = PointNet()\n",
    "\n",
    "\n",
    "optimizer = tf.keras.optimizers.Adam(learning_rate=0.001)\n",
    "\n",
    "\n",
    "model.compile(optimizer=optimizer, loss='mean_squared_error', metrics=['mean_absolute_error', RMSD(name='rmsd')]) "
   ]
  },
  {
   "cell_type": "code",
   "execution_count": 68,
   "metadata": {},
   "outputs": [
    {
     "name": "stderr",
     "output_type": "stream",
     "text": [
      "/Users/nitesh.kumar/miniconda3/lib/python3.8/site-packages/keras/engine/training.py:2416: UserWarning: Metric RMSD implements a `reset_states()` method; rename it to `reset_state()` (without the final \"s\"). The name `reset_states()` has been deprecated to improve API consistency.\n",
      "  m.reset_state()\n"
     ]
    },
    {
     "name": "stdout",
     "output_type": "stream",
     "text": [
      "2/2 [==============================] - 0s 9ms/step\n"
     ]
    },
    {
     "name": "stderr",
     "output_type": "stream",
     "text": [
      "/Users/nitesh.kumar/miniconda3/lib/python3.8/site-packages/keras/engine/training.py:2416: UserWarning: Metric RMSD implements a `reset_states()` method; rename it to `reset_state()` (without the final \"s\"). The name `reset_states()` has been deprecated to improve API consistency.\n",
      "  m.reset_state()\n"
     ]
    },
    {
     "name": "stdout",
     "output_type": "stream",
     "text": [
      "2/2 [==============================] - 0s 7ms/step\n"
     ]
    },
    {
     "name": "stderr",
     "output_type": "stream",
     "text": [
      "/Users/nitesh.kumar/miniconda3/lib/python3.8/site-packages/keras/engine/training.py:2416: UserWarning: Metric RMSD implements a `reset_states()` method; rename it to `reset_state()` (without the final \"s\"). The name `reset_states()` has been deprecated to improve API consistency.\n",
      "  m.reset_state()\n"
     ]
    },
    {
     "name": "stdout",
     "output_type": "stream",
     "text": [
      "2/2 [==============================] - 0s 7ms/step\n"
     ]
    },
    {
     "name": "stderr",
     "output_type": "stream",
     "text": [
      "/Users/nitesh.kumar/miniconda3/lib/python3.8/site-packages/keras/engine/training.py:2416: UserWarning: Metric RMSD implements a `reset_states()` method; rename it to `reset_state()` (without the final \"s\"). The name `reset_states()` has been deprecated to improve API consistency.\n",
      "  m.reset_state()\n"
     ]
    },
    {
     "name": "stdout",
     "output_type": "stream",
     "text": [
      "2/2 [==============================] - 0s 6ms/step\n"
     ]
    },
    {
     "name": "stderr",
     "output_type": "stream",
     "text": [
      "/Users/nitesh.kumar/miniconda3/lib/python3.8/site-packages/keras/engine/training.py:2416: UserWarning: Metric RMSD implements a `reset_states()` method; rename it to `reset_state()` (without the final \"s\"). The name `reset_states()` has been deprecated to improve API consistency.\n",
      "  m.reset_state()\n"
     ]
    },
    {
     "name": "stdout",
     "output_type": "stream",
     "text": [
      "2/2 [==============================] - 0s 6ms/step\n"
     ]
    },
    {
     "name": "stderr",
     "output_type": "stream",
     "text": [
      "/Users/nitesh.kumar/miniconda3/lib/python3.8/site-packages/keras/engine/training.py:2416: UserWarning: Metric RMSD implements a `reset_states()` method; rename it to `reset_state()` (without the final \"s\"). The name `reset_states()` has been deprecated to improve API consistency.\n",
      "  m.reset_state()\n"
     ]
    },
    {
     "name": "stdout",
     "output_type": "stream",
     "text": [
      "2/2 [==============================] - 0s 7ms/step\n"
     ]
    },
    {
     "name": "stderr",
     "output_type": "stream",
     "text": [
      "/Users/nitesh.kumar/miniconda3/lib/python3.8/site-packages/keras/engine/training.py:2416: UserWarning: Metric RMSD implements a `reset_states()` method; rename it to `reset_state()` (without the final \"s\"). The name `reset_states()` has been deprecated to improve API consistency.\n",
      "  m.reset_state()\n"
     ]
    },
    {
     "name": "stdout",
     "output_type": "stream",
     "text": [
      "2/2 [==============================] - 0s 6ms/step\n"
     ]
    },
    {
     "name": "stderr",
     "output_type": "stream",
     "text": [
      "/Users/nitesh.kumar/miniconda3/lib/python3.8/site-packages/keras/engine/training.py:2416: UserWarning: Metric RMSD implements a `reset_states()` method; rename it to `reset_state()` (without the final \"s\"). The name `reset_states()` has been deprecated to improve API consistency.\n",
      "  m.reset_state()\n"
     ]
    },
    {
     "name": "stdout",
     "output_type": "stream",
     "text": [
      "2/2 [==============================] - 0s 7ms/step\n"
     ]
    },
    {
     "name": "stderr",
     "output_type": "stream",
     "text": [
      "/Users/nitesh.kumar/miniconda3/lib/python3.8/site-packages/keras/engine/training.py:2416: UserWarning: Metric RMSD implements a `reset_states()` method; rename it to `reset_state()` (without the final \"s\"). The name `reset_states()` has been deprecated to improve API consistency.\n",
      "  m.reset_state()\n"
     ]
    },
    {
     "name": "stdout",
     "output_type": "stream",
     "text": [
      "2/2 [==============================] - 0s 6ms/step\n"
     ]
    },
    {
     "name": "stderr",
     "output_type": "stream",
     "text": [
      "/Users/nitesh.kumar/miniconda3/lib/python3.8/site-packages/keras/engine/training.py:2416: UserWarning: Metric RMSD implements a `reset_states()` method; rename it to `reset_state()` (without the final \"s\"). The name `reset_states()` has been deprecated to improve API consistency.\n",
      "  m.reset_state()\n"
     ]
    },
    {
     "name": "stdout",
     "output_type": "stream",
     "text": [
      "2/2 [==============================] - 0s 9ms/step\n",
      "Final R2 score is 0.873 ± 0.130\n",
      "Final RMSE error is 0.630 ± 0.256\n",
      "Final MAE error is 0.507 ± 0.182\n"
     ]
    },
    {
     "data": {
      "image/png": "[encoded data removed]",
      "text/plain": [
       "<Figure size 500x500 with 1 Axes>"
      ]
     },
     "metadata": {},
     "output_type": "display_data"
    }
   ],
   "source": [
    "from sklearn.model_selection import KFold\n",
    "from sklearn.metrics import mean_squared_error, mean_absolute_error, r2_score\n",
    "import numpy as np\n",
    "import matplotlib.pyplot as plt\n",
    "\n",
    "def test_learner(X, y, model):\n",
    "    kf = KFold(n_splits=10, random_state=88, shuffle=True)\n",
    "    rmse_errorlist = []\n",
    "    mae_errorlist = []\n",
    "    r2_list = []\n",
    "    \n",
    "    for train_index, test_index in kf.split(X):\n",
    "        X_train, X_test = X[train_index], X[test_index]\n",
    "        y_train, y_test = y[train_index], y[test_index]\n",
    "        model.fit(X_train, y_train, batch_size=32, epochs=50, verbose=0)\n",
    "        \n",
    "        y_pred = model.predict(X_test)\n",
    "        rmse_error = np.sqrt(mean_squared_error(y_test, y_pred))\n",
    "        mae_error = mean_absolute_error(y_test, y_pred)\n",
    "       \n",
    "        r2 = r2_score(y_test, y_pred)\n",
    "        \n",
    "        rmse_errorlist.append(rmse_error)\n",
    "        mae_errorlist.append(mae_error)\n",
    "        r2_list.append(r2)\n",
    "\n",
    "    print('Final R2 score is {:.3f} ± {:.3f}'.format(np.mean(r2_list), np.std(r2_list)))\n",
    "    print('Final RMSE error is {:.3f} ± {:.3f}'.format(np.mean(rmse_errorlist), np.std(rmse_errorlist)))\n",
    "    print('Final MAE error is {:.3f} ± {:.3f}'.format(np.mean(mae_errorlist), np.std(mae_errorlist)))\n",
    "        \n",
    "    fig, axs = plt.subplots(1, 1, figsize=(5,5))\n",
    "    axs.scatter(y_test, y_pred)\n",
    "    axs.plot([np.min(y_test), np.max(y_test)], [np.min(y_test), np.max(y_test)], ls=\"--\", c=\".3\")\n",
    "    axs.set_xlim(np.min(y_test), np.max(y_test))\n",
    "    axs.set_ylim(np.min(y_test), np.max(y_test))\n",
    "    axs.set_xlabel('True values')\n",
    "    axs.set_ylabel('Predicted values')\n",
    "    axs.set_title('Predicted vs True')\n",
    "    \n",
    "# Use the function\n",
    "test_learner(X, y, model)\n"
   ]
  },
  {
   "cell_type": "code",
   "execution_count": 69,
   "metadata": {},
   "outputs": [
    {
     "name": "stdout",
     "output_type": "stream",
     "text": [
      "Keras weights file (<HDF5 file \"variables.h5\" (mode r+)>) saving:\n",
      "...layers\n",
      "......batch_normalization\n",
      ".........vars\n",
      "............0\n",
      "............1\n",
      "............2\n",
      "............3\n",
      "......batch_normalization_1\n",
      ".........vars\n",
      "............0\n",
      "............1\n",
      "............2\n",
      "............3\n",
      "......batch_normalization_2\n",
      ".........vars\n",
      "............0\n",
      "............1\n",
      "............2\n",
      "............3\n",
      "......batch_normalization_3\n",
      ".........vars\n",
      "............0\n",
      "............1\n",
      "............2\n",
      "............3\n",
      "......batch_normalization_4\n",
      ".........vars\n",
      "............0\n",
      "............1\n",
      "............2\n",
      "............3\n",
      "......conv1d\n",
      ".........vars\n",
      "............0\n",
      "............1\n",
      "......conv1d_1\n",
      ".........vars\n",
      "............0\n",
      "............1\n",
      "......conv1d_2\n",
      ".........vars\n",
      "............0\n",
      "............1\n",
      "......dense\n",
      ".........vars\n",
      "............0\n",
      "............1\n",
      "......dense_1\n",
      ".........vars\n",
      "............0\n",
      "............1\n",
      "......dense_2\n",
      ".........vars\n",
      "............0\n",
      "............1\n",
      "......global_max_pooling1d\n",
      ".........vars\n",
      "......input_layer\n",
      ".........vars\n",
      "...metrics\n",
      "......mean\n",
      ".........vars\n",
      "............0\n",
      "............1\n",
      "......mean_metric_wrapper\n",
      ".........vars\n",
      "............0\n",
      "............1\n",
      "......rmsd\n",
      ".........vars\n",
      "............0\n",
      "............1\n",
      "...optimizer\n",
      "......vars\n",
      ".........0\n",
      ".........1\n",
      ".........10\n",
      ".........11\n",
      ".........12\n",
      ".........13\n",
      ".........14\n",
      ".........15\n",
      ".........16\n",
      ".........17\n",
      ".........18\n",
      ".........19\n",
      ".........2\n",
      ".........20\n",
      ".........21\n",
      ".........22\n",
      ".........23\n",
      ".........24\n",
      ".........25\n",
      ".........26\n",
      ".........27\n",
      ".........28\n",
      ".........29\n",
      ".........3\n",
      ".........30\n",
      ".........31\n",
      ".........32\n",
      ".........33\n",
      ".........34\n",
      ".........35\n",
      ".........36\n",
      ".........37\n",
      ".........38\n",
      ".........39\n",
      ".........4\n",
      ".........40\n",
      ".........41\n",
      ".........42\n",
      ".........43\n",
      ".........44\n",
      ".........5\n",
      ".........6\n",
      ".........7\n",
      ".........8\n",
      ".........9\n",
      "...vars\n",
      "Keras model archive saving:\n",
      "File Name                                             Modified             Size\n",
      "config.json                                    2023-07-04 00:36:48         8083\n",
      "metadata.json                                  2023-07-04 00:36:48           64\n",
      "variables.h5                                   2023-07-04 00:36:48      9695664\n"
     ]
    },
    {
     "data": {
      "text/plain": [
       "['pointnet.pkl']"
      ]
     },
     "execution_count": 69,
     "metadata": {},
     "output_type": "execute_result"
    }
   ],
   "source": [
    "import joblib\n",
    "joblib.dump(model, 'pointnet.pkl')"
   ]
  },
  {
   "cell_type": "code",
   "execution_count": 70,
   "metadata": {},
   "outputs": [
    {
     "name": "stdout",
     "output_type": "stream",
     "text": [
      "Keras model archive loading:\n",
      "File Name                                             Modified             Size\n",
      "config.json                                    2023-07-04 00:36:48         8083\n",
      "metadata.json                                  2023-07-04 00:36:48           64\n",
      "variables.h5                                   2023-07-04 00:36:48      9695664\n",
      "Keras weights file (<HDF5 file \"variables.h5\" (mode r)>) loading:\n",
      "...layers\n",
      "......batch_normalization\n",
      ".........vars\n",
      "............0\n",
      "............1\n",
      "............2\n",
      "............3\n",
      "......batch_normalization_1\n",
      ".........vars\n",
      "............0\n",
      "............1\n",
      "............2\n",
      "............3\n",
      "......batch_normalization_2\n",
      ".........vars\n",
      "............0\n",
      "............1\n",
      "............2\n",
      "............3\n",
      "......batch_normalization_3\n",
      ".........vars\n",
      "............0\n",
      "............1\n",
      "............2\n",
      "............3\n",
      "......batch_normalization_4\n",
      ".........vars\n",
      "............0\n",
      "............1\n",
      "............2\n",
      "............3\n",
      "......conv1d\n",
      ".........vars\n",
      "............0\n",
      "............1\n",
      "......conv1d_1\n",
      ".........vars\n",
      "............0\n",
      "............1\n",
      "......conv1d_2\n",
      ".........vars\n",
      "............0\n",
      "............1\n",
      "......dense\n",
      ".........vars\n",
      "............0\n",
      "............1\n",
      "......dense_1\n",
      ".........vars\n",
      "............0\n",
      "............1\n",
      "......dense_2\n",
      ".........vars\n",
      "............0\n",
      "............1\n",
      "......global_max_pooling1d\n",
      ".........vars\n",
      "......input_layer\n",
      ".........vars\n",
      "...metrics\n",
      "......mean\n",
      ".........vars\n",
      "............0\n",
      "............1\n",
      "......mean_metric_wrapper\n",
      ".........vars\n",
      "............0\n",
      "............1\n",
      "......rmsd\n",
      ".........vars\n",
      "............0\n",
      "............1\n",
      "...optimizer\n",
      "......vars\n",
      ".........0\n",
      ".........1\n",
      ".........10\n",
      ".........11\n",
      ".........12\n",
      ".........13\n",
      ".........14\n",
      ".........15\n",
      ".........16\n",
      ".........17\n",
      ".........18\n",
      ".........19\n",
      ".........2\n",
      ".........20\n",
      ".........21\n",
      ".........22\n",
      ".........23\n",
      ".........24\n",
      ".........25\n",
      ".........26\n",
      ".........27\n",
      ".........28\n",
      ".........29\n",
      ".........3\n",
      ".........30\n",
      ".........31\n",
      ".........32\n",
      ".........33\n",
      ".........34\n",
      ".........35\n",
      ".........36\n",
      ".........37\n",
      ".........38\n",
      ".........39\n",
      ".........4\n",
      ".........40\n",
      ".........41\n",
      ".........42\n",
      ".........43\n",
      ".........44\n",
      ".........5\n",
      ".........6\n",
      ".........7\n",
      ".........8\n",
      ".........9\n",
      "...vars\n",
      "1/1 [==============================] - 0s 326ms/step\n",
      "[[7.6863194]\n",
      " [6.389866 ]\n",
      " [4.340436 ]\n",
      " [4.832293 ]\n",
      " [7.5578327]\n",
      " [6.3573103]\n",
      " [4.097428 ]\n",
      " [8.097225 ]\n",
      " [5.5456295]\n",
      " [6.4925346]]\n"
     ]
    }
   ],
   "source": [
    "model_loaded = joblib.load('pointnet.pkl')\n",
    "new_data = X[0:10] \n",
    "prediction = model_loaded.predict(new_data)\n",
    "print(prediction)  \n",
    "\n"
   ]
  },
  {
   "cell_type": "code",
   "execution_count": 71,
   "metadata": {},
   "outputs": [
    {
     "data": {
      "text/plain": [
       "[<matplotlib.lines.Line2D at 0x15276ff10>]"
      ]
     },
     "execution_count": 71,
     "metadata": {},
     "output_type": "execute_result"
    },
    {
     "data": {
      "image/png": "[encoded data removed]",
      "text/plain": [
       "<Figure size 640x480 with 1 Axes>"
      ]
     },
     "metadata": {},
     "output_type": "display_data"
    }
   ],
   "source": [
    "plt.plot(prediction)"
   ]
  },
  {
   "cell_type": "code",
   "execution_count": 72,
   "metadata": {},
   "outputs": [
    {
     "name": "stdout",
     "output_type": "stream",
     "text": [
      "[[7.6863194]\n",
      " [6.389866 ]\n",
      " [4.340436 ]\n",
      " [4.832293 ]\n",
      " [7.5578327]\n",
      " [6.3573103]\n",
      " [4.097428 ]\n",
      " [8.097225 ]\n",
      " [5.5456295]\n",
      " [6.4925346]]\n"
     ]
    }
   ],
   "source": [
    "print(prediction)"
   ]
  },
  {
   "cell_type": "code",
   "execution_count": null,
   "metadata": {},
   "outputs": [],
   "source": []
  },
  {
   "cell_type": "code",
   "execution_count": null,
   "metadata": {},
   "outputs": [],
   "source": []
  },
  {
   "cell_type": "code",
   "execution_count": null,
   "metadata": {},
   "outputs": [],
   "source": []
  },
  {
   "cell_type": "code",
   "execution_count": null,
   "metadata": {},
   "outputs": [],
   "source": []
  },
  {
   "cell_type": "code",
   "execution_count": null,
   "metadata": {},
   "outputs": [],
   "source": []
  },
  {
   "cell_type": "code",
   "execution_count": null,
   "metadata": {},
   "outputs": [],
   "source": []
  },
  {
   "cell_type": "code",
   "execution_count": null,
   "metadata": {},
   "outputs": [],
   "source": []
  },
  {
   "cell_type": "code",
   "execution_count": null,
   "metadata": {},
   "outputs": [],
   "source": []
  },
  {
   "cell_type": "code",
   "execution_count": null,
   "metadata": {},
   "outputs": [],
   "source": []
  },
  {
   "cell_type": "code",
   "execution_count": null,
   "metadata": {},
   "outputs": [],
   "source": []
  },
  {
   "cell_type": "code",
   "execution_count": null,
   "metadata": {},
   "outputs": [],
   "source": []
  },
  {
   "cell_type": "code",
   "execution_count": null,
   "metadata": {},
   "outputs": [],
   "source": []
  },
  {
   "cell_type": "code",
   "execution_count": null,
   "metadata": {},
   "outputs": [],
   "source": []
  },
  {
   "cell_type": "code",
   "execution_count": null,
   "metadata": {},
   "outputs": [],
   "source": []
  },
  {
   "cell_type": "code",
   "execution_count": null,
   "metadata": {},
   "outputs": [],
   "source": []
  },
  {
   "cell_type": "code",
   "execution_count": null,
   "metadata": {},
   "outputs": [],
   "source": []
  }
 ],
 "metadata": {
  "kernelspec": {
   "display_name": "Python 3 (ipykernel)",
   "language": "python",
   "name": "python3"
  },
  "language_info": {
   "codemirror_mode": {
    "name": "ipython",
    "version": 3
   },
   "file_extension": ".py",
   "mimetype": "text/x-python",
   "name": "python",
   "nbconvert_exporter": "python",
   "pygments_lexer": "ipython3",
   "version": "3.8.17"
  }
 },
 "nbformat": 4,
 "nbformat_minor": 4
}
